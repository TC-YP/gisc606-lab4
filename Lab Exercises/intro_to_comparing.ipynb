{
 "cells": [
  {
   "cell_type": "code",
   "execution_count": 1,
   "metadata": {},
   "outputs": [
    {
     "name": "stdout",
     "output_type": "stream",
     "text": [
      "Requirement already satisfied: numpy in /usr/local/python/3.10.13/lib/python3.10/site-packages (1.24.2)\n",
      "Note: you may need to restart the kernel to use updated packages.\n"
     ]
    }
   ],
   "source": [
    "pip install numpy"
   ]
  },
  {
   "cell_type": "code",
   "execution_count": 3,
   "metadata": {},
   "outputs": [
    {
     "name": "stdout",
     "output_type": "stream",
     "text": [
      "Collecting rioxarray\n",
      "  Downloading rioxarray-0.15.5-py3-none-any.whl.metadata (5.4 kB)\n",
      "Requirement already satisfied: packaging in /home/codespace/.local/lib/python3.10/site-packages (from rioxarray) (24.0)\n",
      "Collecting rasterio>=1.3 (from rioxarray)\n",
      "  Downloading rasterio-1.3.10-cp310-cp310-manylinux2014_x86_64.whl.metadata (14 kB)\n",
      "Collecting xarray>=2022.3.0 (from rioxarray)\n",
      "  Downloading xarray-2024.3.0-py3-none-any.whl.metadata (11 kB)\n",
      "Collecting pyproj>=3.3 (from rioxarray)\n",
      "  Downloading pyproj-3.6.1-cp310-cp310-manylinux_2_17_x86_64.manylinux2014_x86_64.whl.metadata (31 kB)\n",
      "Requirement already satisfied: numpy>=1.23 in /usr/local/python/3.10.13/lib/python3.10/site-packages (from rioxarray) (1.24.2)\n",
      "Requirement already satisfied: certifi in /home/codespace/.local/lib/python3.10/site-packages (from pyproj>=3.3->rioxarray) (2024.2.2)\n",
      "Collecting affine (from rasterio>=1.3->rioxarray)\n",
      "  Downloading affine-2.4.0-py3-none-any.whl.metadata (4.0 kB)\n",
      "Requirement already satisfied: attrs in /home/codespace/.local/lib/python3.10/site-packages (from rasterio>=1.3->rioxarray) (23.2.0)\n",
      "Collecting click>=4.0 (from rasterio>=1.3->rioxarray)\n",
      "  Downloading click-8.1.7-py3-none-any.whl.metadata (3.0 kB)\n",
      "Collecting cligj>=0.5 (from rasterio>=1.3->rioxarray)\n",
      "  Downloading cligj-0.7.2-py3-none-any.whl.metadata (5.0 kB)\n",
      "Collecting snuggs>=1.4.1 (from rasterio>=1.3->rioxarray)\n",
      "  Downloading snuggs-1.4.7-py3-none-any.whl.metadata (3.4 kB)\n",
      "Collecting click-plugins (from rasterio>=1.3->rioxarray)\n",
      "  Downloading click_plugins-1.1.1-py2.py3-none-any.whl.metadata (6.4 kB)\n",
      "Requirement already satisfied: setuptools in /usr/local/python/3.10.13/lib/python3.10/site-packages (from rasterio>=1.3->rioxarray) (68.2.2)\n",
      "Requirement already satisfied: pandas>=1.5 in /usr/local/python/3.10.13/lib/python3.10/site-packages (from xarray>=2022.3.0->rioxarray) (1.5.3)\n",
      "Requirement already satisfied: python-dateutil>=2.8.1 in /home/codespace/.local/lib/python3.10/site-packages (from pandas>=1.5->xarray>=2022.3.0->rioxarray) (2.9.0.post0)\n",
      "Requirement already satisfied: pytz>=2020.1 in /home/codespace/.local/lib/python3.10/site-packages (from pandas>=1.5->xarray>=2022.3.0->rioxarray) (2024.1)\n",
      "Requirement already satisfied: pyparsing>=2.1.6 in /home/codespace/.local/lib/python3.10/site-packages (from snuggs>=1.4.1->rasterio>=1.3->rioxarray) (3.1.2)\n",
      "Requirement already satisfied: six>=1.5 in /home/codespace/.local/lib/python3.10/site-packages (from python-dateutil>=2.8.1->pandas>=1.5->xarray>=2022.3.0->rioxarray) (1.16.0)\n",
      "Downloading rioxarray-0.15.5-py3-none-any.whl (60 kB)\n",
      "\u001b[2K   \u001b[90m━━━━━━━━━━━━━━━━━━━━━━━━━━━━━━━━━━━━━━━━\u001b[0m \u001b[32m60.5/60.5 kB\u001b[0m \u001b[31m2.4 MB/s\u001b[0m eta \u001b[36m0:00:00\u001b[0m\n",
      "\u001b[?25hDownloading pyproj-3.6.1-cp310-cp310-manylinux_2_17_x86_64.manylinux2014_x86_64.whl (8.3 MB)\n",
      "\u001b[2K   \u001b[90m━━━━━━━━━━━━━━━━━━━━━━━━━━━━━━━━━━━━━━━━\u001b[0m \u001b[32m8.3/8.3 MB\u001b[0m \u001b[31m70.8 MB/s\u001b[0m eta \u001b[36m0:00:00\u001b[0m:00:01\u001b[0m0:01\u001b[0m\n",
      "\u001b[?25hDownloading rasterio-1.3.10-cp310-cp310-manylinux2014_x86_64.whl (21.5 MB)\n",
      "\u001b[2K   \u001b[90m━━━━━━━━━━━━━━━━━━━━━━━━━━━━━━━━━━━━━━━━\u001b[0m \u001b[32m21.5/21.5 MB\u001b[0m \u001b[31m68.1 MB/s\u001b[0m eta \u001b[36m0:00:00\u001b[0m:00:01\u001b[0m00:01\u001b[0m\n",
      "\u001b[?25hDownloading xarray-2024.3.0-py3-none-any.whl (1.1 MB)\n",
      "\u001b[2K   \u001b[90m━━━━━━━━━━━━━━━━━━━━━━━━━━━━━━━━━━━━━━━━\u001b[0m \u001b[32m1.1/1.1 MB\u001b[0m \u001b[31m31.9 MB/s\u001b[0m eta \u001b[36m0:00:00\u001b[0m:00:01\u001b[0m\n",
      "\u001b[?25hDownloading click-8.1.7-py3-none-any.whl (97 kB)\n",
      "\u001b[2K   \u001b[90m━━━━━━━━━━━━━━━━━━━━━━━━━━━━━━━━━━━━━━━━\u001b[0m \u001b[32m97.9/97.9 kB\u001b[0m \u001b[31m4.1 MB/s\u001b[0m eta \u001b[36m0:00:00\u001b[0m\n",
      "\u001b[?25hDownloading cligj-0.7.2-py3-none-any.whl (7.1 kB)\n",
      "Downloading snuggs-1.4.7-py3-none-any.whl (5.4 kB)\n",
      "Downloading affine-2.4.0-py3-none-any.whl (15 kB)\n",
      "Downloading click_plugins-1.1.1-py2.py3-none-any.whl (7.5 kB)\n",
      "Installing collected packages: snuggs, pyproj, click, affine, cligj, click-plugins, xarray, rasterio, rioxarray\n",
      "Successfully installed affine-2.4.0 click-8.1.7 click-plugins-1.1.1 cligj-0.7.2 pyproj-3.6.1 rasterio-1.3.10 rioxarray-0.15.5 snuggs-1.4.7 xarray-2024.3.0\n",
      "Note: you may need to restart the kernel to use updated packages.\n"
     ]
    }
   ],
   "source": [
    "pip install rioxarray"
   ]
  },
  {
   "cell_type": "code",
   "execution_count": 4,
   "metadata": {},
   "outputs": [
    {
     "name": "stdout",
     "output_type": "stream",
     "text": [
      "Collecting geopandas\n",
      "  Downloading geopandas-0.14.3-py3-none-any.whl.metadata (1.5 kB)\n",
      "Collecting fiona>=1.8.21 (from geopandas)\n",
      "  Downloading fiona-1.9.6-cp310-cp310-manylinux2014_x86_64.whl.metadata (50 kB)\n",
      "\u001b[2K     \u001b[90m━━━━━━━━━━━━━━━━━━━━━━━━━━━━━━━━━━━━━━━━\u001b[0m \u001b[32m50.2/50.2 kB\u001b[0m \u001b[31m1.4 MB/s\u001b[0m eta \u001b[36m0:00:00\u001b[0m\n",
      "\u001b[?25hRequirement already satisfied: packaging in /home/codespace/.local/lib/python3.10/site-packages (from geopandas) (24.0)\n",
      "Requirement already satisfied: pandas>=1.4.0 in /usr/local/python/3.10.13/lib/python3.10/site-packages (from geopandas) (1.5.3)\n",
      "Requirement already satisfied: pyproj>=3.3.0 in /usr/local/python/3.10.13/lib/python3.10/site-packages (from geopandas) (3.6.1)\n",
      "Collecting shapely>=1.8.0 (from geopandas)\n",
      "  Downloading shapely-2.0.4-cp310-cp310-manylinux_2_17_x86_64.manylinux2014_x86_64.whl.metadata (7.0 kB)\n",
      "Requirement already satisfied: attrs>=19.2.0 in /home/codespace/.local/lib/python3.10/site-packages (from fiona>=1.8.21->geopandas) (23.2.0)\n",
      "Requirement already satisfied: certifi in /home/codespace/.local/lib/python3.10/site-packages (from fiona>=1.8.21->geopandas) (2024.2.2)\n",
      "Requirement already satisfied: click~=8.0 in /usr/local/python/3.10.13/lib/python3.10/site-packages (from fiona>=1.8.21->geopandas) (8.1.7)\n",
      "Requirement already satisfied: click-plugins>=1.0 in /usr/local/python/3.10.13/lib/python3.10/site-packages (from fiona>=1.8.21->geopandas) (1.1.1)\n",
      "Requirement already satisfied: cligj>=0.5 in /usr/local/python/3.10.13/lib/python3.10/site-packages (from fiona>=1.8.21->geopandas) (0.7.2)\n",
      "Requirement already satisfied: six in /home/codespace/.local/lib/python3.10/site-packages (from fiona>=1.8.21->geopandas) (1.16.0)\n",
      "Requirement already satisfied: python-dateutil>=2.8.1 in /home/codespace/.local/lib/python3.10/site-packages (from pandas>=1.4.0->geopandas) (2.9.0.post0)\n",
      "Requirement already satisfied: pytz>=2020.1 in /home/codespace/.local/lib/python3.10/site-packages (from pandas>=1.4.0->geopandas) (2024.1)\n",
      "Requirement already satisfied: numpy>=1.21.0 in /usr/local/python/3.10.13/lib/python3.10/site-packages (from pandas>=1.4.0->geopandas) (1.24.2)\n",
      "Downloading geopandas-0.14.3-py3-none-any.whl (1.1 MB)\n",
      "\u001b[2K   \u001b[90m━━━━━━━━━━━━━━━━━━━━━━━━━━━━━━━━━━━━━━━━\u001b[0m \u001b[32m1.1/1.1 MB\u001b[0m \u001b[31m19.1 MB/s\u001b[0m eta \u001b[36m0:00:00\u001b[0m00:01\u001b[0m\n",
      "\u001b[?25hDownloading fiona-1.9.6-cp310-cp310-manylinux2014_x86_64.whl (15.7 MB)\n",
      "\u001b[2K   \u001b[90m━━━━━━━━━━━━━━━━━━━━━━━━━━━━━━━━━━━━━━━━\u001b[0m \u001b[32m15.7/15.7 MB\u001b[0m \u001b[31m70.9 MB/s\u001b[0m eta \u001b[36m0:00:00\u001b[0m:00:01\u001b[0m00:01\u001b[0m\n",
      "\u001b[?25hDownloading shapely-2.0.4-cp310-cp310-manylinux_2_17_x86_64.manylinux2014_x86_64.whl (2.5 MB)\n",
      "\u001b[2K   \u001b[90m━━━━━━━━━━━━━━━━━━━━━━━━━━━━━━━━━━━━━━━━\u001b[0m \u001b[32m2.5/2.5 MB\u001b[0m \u001b[31m57.7 MB/s\u001b[0m eta \u001b[36m0:00:00\u001b[0m:00:01\u001b[0m\n",
      "\u001b[?25hInstalling collected packages: shapely, fiona, geopandas\n",
      "Successfully installed fiona-1.9.6 geopandas-0.14.3 shapely-2.0.4\n",
      "Note: you may need to restart the kernel to use updated packages.\n"
     ]
    }
   ],
   "source": [
    "pip install geopandas"
   ]
  },
  {
   "cell_type": "code",
   "execution_count": 5,
   "metadata": {},
   "outputs": [
    {
     "name": "stdout",
     "output_type": "stream",
     "text": [
      "Collecting rasterstats\n",
      "  Downloading rasterstats-0.19.0-py3-none-any.whl.metadata (4.1 kB)\n",
      "Requirement already satisfied: affine in /usr/local/python/3.10.13/lib/python3.10/site-packages (from rasterstats) (2.4.0)\n",
      "Requirement already satisfied: click>7.1 in /usr/local/python/3.10.13/lib/python3.10/site-packages (from rasterstats) (8.1.7)\n",
      "Requirement already satisfied: cligj>=0.4 in /usr/local/python/3.10.13/lib/python3.10/site-packages (from rasterstats) (0.7.2)\n",
      "Requirement already satisfied: fiona in /usr/local/python/3.10.13/lib/python3.10/site-packages (from rasterstats) (1.9.6)\n",
      "Requirement already satisfied: numpy>=1.9 in /usr/local/python/3.10.13/lib/python3.10/site-packages (from rasterstats) (1.24.2)\n",
      "Requirement already satisfied: rasterio>=1.0 in /usr/local/python/3.10.13/lib/python3.10/site-packages (from rasterstats) (1.3.10)\n",
      "Collecting simplejson (from rasterstats)\n",
      "  Downloading simplejson-3.19.2-cp310-cp310-manylinux_2_5_x86_64.manylinux1_x86_64.manylinux_2_17_x86_64.manylinux2014_x86_64.whl.metadata (3.1 kB)\n",
      "Requirement already satisfied: shapely in /usr/local/python/3.10.13/lib/python3.10/site-packages (from rasterstats) (2.0.4)\n",
      "Requirement already satisfied: attrs in /home/codespace/.local/lib/python3.10/site-packages (from rasterio>=1.0->rasterstats) (23.2.0)\n",
      "Requirement already satisfied: certifi in /home/codespace/.local/lib/python3.10/site-packages (from rasterio>=1.0->rasterstats) (2024.2.2)\n",
      "Requirement already satisfied: snuggs>=1.4.1 in /usr/local/python/3.10.13/lib/python3.10/site-packages (from rasterio>=1.0->rasterstats) (1.4.7)\n",
      "Requirement already satisfied: click-plugins in /usr/local/python/3.10.13/lib/python3.10/site-packages (from rasterio>=1.0->rasterstats) (1.1.1)\n",
      "Requirement already satisfied: setuptools in /usr/local/python/3.10.13/lib/python3.10/site-packages (from rasterio>=1.0->rasterstats) (68.2.2)\n",
      "Requirement already satisfied: six in /home/codespace/.local/lib/python3.10/site-packages (from fiona->rasterstats) (1.16.0)\n",
      "Requirement already satisfied: pyparsing>=2.1.6 in /home/codespace/.local/lib/python3.10/site-packages (from snuggs>=1.4.1->rasterio>=1.0->rasterstats) (3.1.2)\n",
      "Downloading rasterstats-0.19.0-py3-none-any.whl (16 kB)\n",
      "Downloading simplejson-3.19.2-cp310-cp310-manylinux_2_5_x86_64.manylinux1_x86_64.manylinux_2_17_x86_64.manylinux2014_x86_64.whl (137 kB)\n",
      "\u001b[2K   \u001b[90m━━━━━━━━━━━━━━━━━━━━━━━━━━━━━━━━━━━━━━━━\u001b[0m \u001b[32m137.9/137.9 kB\u001b[0m \u001b[31m3.6 MB/s\u001b[0m eta \u001b[36m0:00:00\u001b[0ma \u001b[36m0:00:01\u001b[0m\n",
      "\u001b[?25hInstalling collected packages: simplejson, rasterstats\n",
      "Successfully installed rasterstats-0.19.0 simplejson-3.19.2\n",
      "Note: you may need to restart the kernel to use updated packages.\n"
     ]
    }
   ],
   "source": [
    "pip install rasterstats"
   ]
  },
  {
   "cell_type": "code",
   "execution_count": 6,
   "metadata": {},
   "outputs": [
    {
     "name": "stdout",
     "output_type": "stream",
     "text": [
      "Collecting earthpy\n",
      "  Downloading earthpy-0.9.4-py3-none-any.whl.metadata (9.2 kB)\n",
      "Requirement already satisfied: geopandas in /usr/local/python/3.10.13/lib/python3.10/site-packages (from earthpy) (0.14.3)\n",
      "Requirement already satisfied: matplotlib>=2.0.0 in /usr/local/python/3.10.13/lib/python3.10/site-packages (from earthpy) (3.7.0)\n",
      "Requirement already satisfied: numpy>=1.14.0 in /usr/local/python/3.10.13/lib/python3.10/site-packages (from earthpy) (1.24.2)\n",
      "Requirement already satisfied: rasterio in /usr/local/python/3.10.13/lib/python3.10/site-packages (from earthpy) (1.3.10)\n",
      "Collecting scikit-image (from earthpy)\n",
      "  Downloading scikit_image-0.23.2-cp310-cp310-manylinux_2_17_x86_64.manylinux2014_x86_64.whl.metadata (14 kB)\n",
      "Requirement already satisfied: requests in /home/codespace/.local/lib/python3.10/site-packages (from earthpy) (2.31.0)\n",
      "Requirement already satisfied: contourpy>=1.0.1 in /home/codespace/.local/lib/python3.10/site-packages (from matplotlib>=2.0.0->earthpy) (1.2.1)\n",
      "Requirement already satisfied: cycler>=0.10 in /home/codespace/.local/lib/python3.10/site-packages (from matplotlib>=2.0.0->earthpy) (0.12.1)\n",
      "Requirement already satisfied: fonttools>=4.22.0 in /home/codespace/.local/lib/python3.10/site-packages (from matplotlib>=2.0.0->earthpy) (4.50.0)\n",
      "Requirement already satisfied: kiwisolver>=1.0.1 in /home/codespace/.local/lib/python3.10/site-packages (from matplotlib>=2.0.0->earthpy) (1.4.5)\n",
      "Requirement already satisfied: packaging>=20.0 in /home/codespace/.local/lib/python3.10/site-packages (from matplotlib>=2.0.0->earthpy) (24.0)\n",
      "Requirement already satisfied: pillow>=6.2.0 in /home/codespace/.local/lib/python3.10/site-packages (from matplotlib>=2.0.0->earthpy) (10.3.0)\n",
      "Requirement already satisfied: pyparsing>=2.3.1 in /home/codespace/.local/lib/python3.10/site-packages (from matplotlib>=2.0.0->earthpy) (3.1.2)\n",
      "Requirement already satisfied: python-dateutil>=2.7 in /home/codespace/.local/lib/python3.10/site-packages (from matplotlib>=2.0.0->earthpy) (2.9.0.post0)\n",
      "Requirement already satisfied: fiona>=1.8.21 in /usr/local/python/3.10.13/lib/python3.10/site-packages (from geopandas->earthpy) (1.9.6)\n",
      "Requirement already satisfied: pandas>=1.4.0 in /usr/local/python/3.10.13/lib/python3.10/site-packages (from geopandas->earthpy) (1.5.3)\n",
      "Requirement already satisfied: pyproj>=3.3.0 in /usr/local/python/3.10.13/lib/python3.10/site-packages (from geopandas->earthpy) (3.6.1)\n",
      "Requirement already satisfied: shapely>=1.8.0 in /usr/local/python/3.10.13/lib/python3.10/site-packages (from geopandas->earthpy) (2.0.4)\n",
      "Requirement already satisfied: affine in /usr/local/python/3.10.13/lib/python3.10/site-packages (from rasterio->earthpy) (2.4.0)\n",
      "Requirement already satisfied: attrs in /home/codespace/.local/lib/python3.10/site-packages (from rasterio->earthpy) (23.2.0)\n",
      "Requirement already satisfied: certifi in /home/codespace/.local/lib/python3.10/site-packages (from rasterio->earthpy) (2024.2.2)\n",
      "Requirement already satisfied: click>=4.0 in /usr/local/python/3.10.13/lib/python3.10/site-packages (from rasterio->earthpy) (8.1.7)\n",
      "Requirement already satisfied: cligj>=0.5 in /usr/local/python/3.10.13/lib/python3.10/site-packages (from rasterio->earthpy) (0.7.2)\n",
      "Requirement already satisfied: snuggs>=1.4.1 in /usr/local/python/3.10.13/lib/python3.10/site-packages (from rasterio->earthpy) (1.4.7)\n",
      "Requirement already satisfied: click-plugins in /usr/local/python/3.10.13/lib/python3.10/site-packages (from rasterio->earthpy) (1.1.1)\n",
      "Requirement already satisfied: setuptools in /usr/local/python/3.10.13/lib/python3.10/site-packages (from rasterio->earthpy) (68.2.2)\n",
      "Requirement already satisfied: charset-normalizer<4,>=2 in /home/codespace/.local/lib/python3.10/site-packages (from requests->earthpy) (3.3.2)\n",
      "Requirement already satisfied: idna<4,>=2.5 in /home/codespace/.local/lib/python3.10/site-packages (from requests->earthpy) (3.6)\n",
      "Requirement already satisfied: urllib3<3,>=1.21.1 in /usr/local/python/3.10.13/lib/python3.10/site-packages (from requests->earthpy) (2.0.7)\n",
      "Requirement already satisfied: scipy>=1.9 in /home/codespace/.local/lib/python3.10/site-packages (from scikit-image->earthpy) (1.13.0)\n",
      "Requirement already satisfied: networkx>=2.8 in /home/codespace/.local/lib/python3.10/site-packages (from scikit-image->earthpy) (3.2.1)\n",
      "Collecting imageio>=2.33 (from scikit-image->earthpy)\n",
      "  Downloading imageio-2.34.1-py3-none-any.whl.metadata (4.9 kB)\n",
      "Collecting tifffile>=2022.8.12 (from scikit-image->earthpy)\n",
      "  Downloading tifffile-2024.4.24-py3-none-any.whl.metadata (31 kB)\n",
      "Collecting lazy-loader>=0.4 (from scikit-image->earthpy)\n",
      "  Downloading lazy_loader-0.4-py3-none-any.whl.metadata (7.6 kB)\n",
      "Requirement already satisfied: six in /home/codespace/.local/lib/python3.10/site-packages (from fiona>=1.8.21->geopandas->earthpy) (1.16.0)\n",
      "Requirement already satisfied: pytz>=2020.1 in /home/codespace/.local/lib/python3.10/site-packages (from pandas>=1.4.0->geopandas->earthpy) (2024.1)\n",
      "Downloading earthpy-0.9.4-py3-none-any.whl (1.4 MB)\n",
      "\u001b[2K   \u001b[90m━━━━━━━━━━━━━━━━━━━━━━━━━━━━━━━━━━━━━━━━\u001b[0m \u001b[32m1.4/1.4 MB\u001b[0m \u001b[31m22.0 MB/s\u001b[0m eta \u001b[36m0:00:00\u001b[0m00:01\u001b[0m\n",
      "\u001b[?25hDownloading scikit_image-0.23.2-cp310-cp310-manylinux_2_17_x86_64.manylinux2014_x86_64.whl (14.7 MB)\n",
      "\u001b[2K   \u001b[90m━━━━━━━━━━━━━━━━━━━━━━━━━━━━━━━━━━━━━━━━\u001b[0m \u001b[32m14.7/14.7 MB\u001b[0m \u001b[31m84.0 MB/s\u001b[0m eta \u001b[36m0:00:00\u001b[0m:00:01\u001b[0m0:01\u001b[0m\n",
      "\u001b[?25hDownloading imageio-2.34.1-py3-none-any.whl (313 kB)\n",
      "\u001b[2K   \u001b[90m━━━━━━━━━━━━━━━━━━━━━━━━━━━━━━━━━━━━━━━━\u001b[0m \u001b[32m313.5/313.5 kB\u001b[0m \u001b[31m12.3 MB/s\u001b[0m eta \u001b[36m0:00:00\u001b[0m\n",
      "\u001b[?25hDownloading lazy_loader-0.4-py3-none-any.whl (12 kB)\n",
      "Downloading tifffile-2024.4.24-py3-none-any.whl (225 kB)\n",
      "\u001b[2K   \u001b[90m━━━━━━━━━━━━━━━━━━━━━━━━━━━━━━━━━━━━━━━━\u001b[0m \u001b[32m225.0/225.0 kB\u001b[0m \u001b[31m9.8 MB/s\u001b[0m eta \u001b[36m0:00:00\u001b[0m\n",
      "\u001b[?25hInstalling collected packages: tifffile, lazy-loader, imageio, scikit-image, earthpy\n",
      "Successfully installed earthpy-0.9.4 imageio-2.34.1 lazy-loader-0.4 scikit-image-0.23.2 tifffile-2024.4.24\n",
      "Note: you may need to restart the kernel to use updated packages.\n"
     ]
    }
   ],
   "source": [
    "pip install earthpy"
   ]
  }
 ],
 "metadata": {
  "kernelspec": {
   "display_name": "Python 3",
   "language": "python",
   "name": "python3"
  },
  "language_info": {
   "codemirror_mode": {
    "name": "ipython",
    "version": 3
   },
   "file_extension": ".py",
   "mimetype": "text/x-python",
   "name": "python",
   "nbconvert_exporter": "python",
   "pygments_lexer": "ipython3",
   "version": "3.10.13"
  }
 },
 "nbformat": 4,
 "nbformat_minor": 2
}
